{
 "cells": [
  {
   "cell_type": "markdown",
   "id": "d1952b81",
   "metadata": {},
   "source": [
    "### Group 92 Project Proposal\n",
    "- Members: Alan, Bowen, Jia Yi, Kiki"
   ]
  },
  {
   "cell_type": "markdown",
   "id": "e544c40a",
   "metadata": {},
   "source": [
    "# Predicting Heart Disease with Patient Health Information"
   ]
  },
  {
   "cell_type": "markdown",
   "id": "e9908cbc",
   "metadata": {},
   "source": [
    "## Introduction"
   ]
  },
  {
   "cell_type": "markdown",
   "id": "8db17fdd",
   "metadata": {},
   "source": [
    "Can we use the health report information to predict whether a patient has heart disease?\n",
    "\n",
    "Heart disease is defined as the buildup of plaque in the heart's arteries that could lead to a heart attack/failure, which leads to death in many cases.\n",
    "\n",
    "As the second leading cause of death in Canada, about 1 in 12 Canadian adults aged 20 and older live with a diagnosed heart disease, and the death rate of a heart disease is 2.9 times higher for them versus those without. However, early detection and management can help keep this illness under control. Hence, this project aims to build a classification model that can predict and diagnose whether a patient has a heart disease so that early intervention can take place to increase chances of rehabilitation.\n",
    "\n",
    "The dataset chosen dates back to 1988 and consists of 4 databases from Cleveland, Hungary, Switzerland, and Long Beach V. The \"target\" field refers to the presence of heart disease in the patient. The integer valued ‘0’ means there is no disease, while the integer valued ‘1’ shows presence of heart disease."
   ]
  },
  {
   "cell_type": "markdown",
   "id": "da3af504",
   "metadata": {},
   "source": [
    "## Methods & Data Analysis"
   ]
  },
  {
   "cell_type": "markdown",
   "id": "014b64f3",
   "metadata": {},
   "source": [
    "We load the necessary libraries and adjust the options so that tables only print a maximum of 10 rows."
   ]
  },
  {
   "cell_type": "code",
   "execution_count": 1,
   "id": "f55d8ad2",
   "metadata": {},
   "outputs": [
    {
     "name": "stderr",
     "output_type": "stream",
     "text": [
      "── \u001b[1mAttaching packages\u001b[22m ─────────────────────────────────────── tidyverse 1.3.1 ──\n",
      "\n",
      "\u001b[32m✔\u001b[39m \u001b[34mggplot2\u001b[39m 3.3.6     \u001b[32m✔\u001b[39m \u001b[34mpurrr  \u001b[39m 0.3.4\n",
      "\u001b[32m✔\u001b[39m \u001b[34mtibble \u001b[39m 3.1.7     \u001b[32m✔\u001b[39m \u001b[34mdplyr  \u001b[39m 1.0.9\n",
      "\u001b[32m✔\u001b[39m \u001b[34mtidyr  \u001b[39m 1.2.0     \u001b[32m✔\u001b[39m \u001b[34mstringr\u001b[39m 1.4.0\n",
      "\u001b[32m✔\u001b[39m \u001b[34mreadr  \u001b[39m 2.1.2     \u001b[32m✔\u001b[39m \u001b[34mforcats\u001b[39m 0.5.1\n",
      "\n",
      "── \u001b[1mConflicts\u001b[22m ────────────────────────────────────────── tidyverse_conflicts() ──\n",
      "\u001b[31m✖\u001b[39m \u001b[34mdplyr\u001b[39m::\u001b[32mfilter()\u001b[39m masks \u001b[34mstats\u001b[39m::filter()\n",
      "\u001b[31m✖\u001b[39m \u001b[34mdplyr\u001b[39m::\u001b[32mlag()\u001b[39m    masks \u001b[34mstats\u001b[39m::lag()\n",
      "\n",
      "── \u001b[1mAttaching packages\u001b[22m ────────────────────────────────────── tidymodels 1.0.0 ──\n",
      "\n",
      "\u001b[32m✔\u001b[39m \u001b[34mbroom       \u001b[39m 1.0.0     \u001b[32m✔\u001b[39m \u001b[34mrsample     \u001b[39m 1.0.0\n",
      "\u001b[32m✔\u001b[39m \u001b[34mdials       \u001b[39m 1.0.0     \u001b[32m✔\u001b[39m \u001b[34mtune        \u001b[39m 1.0.0\n",
      "\u001b[32m✔\u001b[39m \u001b[34minfer       \u001b[39m 1.0.2     \u001b[32m✔\u001b[39m \u001b[34mworkflows   \u001b[39m 1.0.0\n",
      "\u001b[32m✔\u001b[39m \u001b[34mmodeldata   \u001b[39m 1.0.0     \u001b[32m✔\u001b[39m \u001b[34mworkflowsets\u001b[39m 1.0.0\n",
      "\u001b[32m✔\u001b[39m \u001b[34mparsnip     \u001b[39m 1.0.0     \u001b[32m✔\u001b[39m \u001b[34myardstick   \u001b[39m 1.0.0\n",
      "\u001b[32m✔\u001b[39m \u001b[34mrecipes     \u001b[39m 1.0.1     \n",
      "\n",
      "── \u001b[1mConflicts\u001b[22m ───────────────────────────────────────── tidymodels_conflicts() ──\n",
      "\u001b[31m✖\u001b[39m \u001b[34mscales\u001b[39m::\u001b[32mdiscard()\u001b[39m masks \u001b[34mpurrr\u001b[39m::discard()\n",
      "\u001b[31m✖\u001b[39m \u001b[34mdplyr\u001b[39m::\u001b[32mfilter()\u001b[39m   masks \u001b[34mstats\u001b[39m::filter()\n",
      "\u001b[31m✖\u001b[39m \u001b[34mrecipes\u001b[39m::\u001b[32mfixed()\u001b[39m  masks \u001b[34mstringr\u001b[39m::fixed()\n",
      "\u001b[31m✖\u001b[39m \u001b[34mdplyr\u001b[39m::\u001b[32mlag()\u001b[39m      masks \u001b[34mstats\u001b[39m::lag()\n",
      "\u001b[31m✖\u001b[39m \u001b[34myardstick\u001b[39m::\u001b[32mspec()\u001b[39m masks \u001b[34mreadr\u001b[39m::spec()\n",
      "\u001b[31m✖\u001b[39m \u001b[34mrecipes\u001b[39m::\u001b[32mstep()\u001b[39m   masks \u001b[34mstats\u001b[39m::step()\n",
      "\u001b[34m•\u001b[39m Use suppressPackageStartupMessages() to eliminate package startup messages\n",
      "\n"
     ]
    }
   ],
   "source": [
    "library(tidyverse)\n",
    "library(tidymodels)                \n",
    "library(\"ggplot2\")  \n",
    "options(repr.matrix.max.rows = 10)"
   ]
  },
  {
   "cell_type": "markdown",
   "id": "11564ba9",
   "metadata": {},
   "source": [
    "### Reading and Wrangling Data"
   ]
  },
  {
   "cell_type": "markdown",
   "id": "3d627ed0",
   "metadata": {},
   "source": [
    "#### The heart dataset has the following columns in the following order:\n",
    "- Age - in years\n",
    "- Sex -  (1= male; 0=female)\n",
    "- Chest Pain Type - (0= typical angina; 1= atypical angina;  2= non-anginal pain; 3= asymptomatic\n",
    "- Resting Blood Pressure - resting blood pressure (in mm mercury on first visit to hospital)\n",
    "- Serum Cholestoral - in mg/dl\n",
    "- Fasting Blood Sugar - (1= greater or equal to than 120 mg/dl; 0= less than 120 mg/dl\n",
    "- Resting Electrocardiographic Results - (0 = normal; 1= having ST-T wave abnormality (T wave inversions and/or ST elevation or depression of > 0.05 mV); 2= showing probable or definite left ventricular hypertrophy by Estes' criteria)\n",
    "- Maximum Heart Rate Achieved - Maximum heart rate achieved in beats per minute\n",
    "- Exercise Induced Angina - (1= yes; 0=no)\n",
    "- Oldpeak - ST depression induced by exercise relative to rest\n",
    "- Slope - (0= upsloping; 1= flat; 2= downsloping)\n",
    "- Number of Major Vessels \n",
    "- Thal -  (3 = normal; 6 = fixed defect; 7 = reversable defect)\n",
    "- Target - (0= undiagnosed; 1= diagnosed)\n",
    "\n",
    "Alan: description of reading, cleaning, and wrangling the data\n",
    "\n",
    "- use na.omit() to remove NA values in the dataset, but there are none in the first place\n",
    "- removed sex, chest pain type, fasting blood sugar, resting electrocardiographic results, exercise induced angina, slope, number of major vessels, and thal variables\n",
    "- we removed the variables that are either irrelevant to heart disease analysis or are actually a type, not numeric"
   ]
  },
  {
   "cell_type": "code",
   "execution_count": 2,
   "id": "e6e2be07",
   "metadata": {},
   "outputs": [
    {
     "name": "stderr",
     "output_type": "stream",
     "text": [
      "\u001b[1mRows: \u001b[22m\u001b[34m1025\u001b[39m \u001b[1mColumns: \u001b[22m\u001b[34m14\u001b[39m\n",
      "\u001b[36m──\u001b[39m \u001b[1mColumn specification\u001b[22m \u001b[36m────────────────────────────────────────────────────────\u001b[39m\n",
      "\u001b[1mDelimiter:\u001b[22m \",\"\n",
      "\u001b[32mdbl\u001b[39m (14): age, sex, cp, trestbps, chol, fbs, restecg, thalach, exang, oldpea...\n",
      "\n",
      "\u001b[36mℹ\u001b[39m Use `spec()` to retrieve the full column specification for this data.\n",
      "\u001b[36mℹ\u001b[39m Specify the column types or set `show_col_types = FALSE` to quiet this message.\n"
     ]
    },
    {
     "data": {
      "text/html": [
       "<table class=\"dataframe\">\n",
       "<caption>A tibble: 1025 × 6</caption>\n",
       "<thead>\n",
       "\t<tr><th scope=col>age</th><th scope=col>trestbps</th><th scope=col>chol</th><th scope=col>thalach</th><th scope=col>oldpeak</th><th scope=col>target</th></tr>\n",
       "\t<tr><th scope=col>&lt;dbl&gt;</th><th scope=col>&lt;dbl&gt;</th><th scope=col>&lt;dbl&gt;</th><th scope=col>&lt;dbl&gt;</th><th scope=col>&lt;dbl&gt;</th><th scope=col>&lt;fct&gt;</th></tr>\n",
       "</thead>\n",
       "<tbody>\n",
       "\t<tr><td>52</td><td>125</td><td>212</td><td>168</td><td>1.0</td><td>0</td></tr>\n",
       "\t<tr><td>53</td><td>140</td><td>203</td><td>155</td><td>3.1</td><td>0</td></tr>\n",
       "\t<tr><td>70</td><td>145</td><td>174</td><td>125</td><td>2.6</td><td>0</td></tr>\n",
       "\t<tr><td>61</td><td>148</td><td>203</td><td>161</td><td>0.0</td><td>0</td></tr>\n",
       "\t<tr><td>62</td><td>138</td><td>294</td><td>106</td><td>1.9</td><td>0</td></tr>\n",
       "\t<tr><td>⋮</td><td>⋮</td><td>⋮</td><td>⋮</td><td>⋮</td><td>⋮</td></tr>\n",
       "\t<tr><td>59</td><td>140</td><td>221</td><td>164</td><td>0.0</td><td>1</td></tr>\n",
       "\t<tr><td>60</td><td>125</td><td>258</td><td>141</td><td>2.8</td><td>0</td></tr>\n",
       "\t<tr><td>47</td><td>110</td><td>275</td><td>118</td><td>1.0</td><td>0</td></tr>\n",
       "\t<tr><td>50</td><td>110</td><td>254</td><td>159</td><td>0.0</td><td>1</td></tr>\n",
       "\t<tr><td>54</td><td>120</td><td>188</td><td>113</td><td>1.4</td><td>0</td></tr>\n",
       "</tbody>\n",
       "</table>\n"
      ],
      "text/latex": [
       "A tibble: 1025 × 6\n",
       "\\begin{tabular}{llllll}\n",
       " age & trestbps & chol & thalach & oldpeak & target\\\\\n",
       " <dbl> & <dbl> & <dbl> & <dbl> & <dbl> & <fct>\\\\\n",
       "\\hline\n",
       "\t 52 & 125 & 212 & 168 & 1.0 & 0\\\\\n",
       "\t 53 & 140 & 203 & 155 & 3.1 & 0\\\\\n",
       "\t 70 & 145 & 174 & 125 & 2.6 & 0\\\\\n",
       "\t 61 & 148 & 203 & 161 & 0.0 & 0\\\\\n",
       "\t 62 & 138 & 294 & 106 & 1.9 & 0\\\\\n",
       "\t ⋮ & ⋮ & ⋮ & ⋮ & ⋮ & ⋮\\\\\n",
       "\t 59 & 140 & 221 & 164 & 0.0 & 1\\\\\n",
       "\t 60 & 125 & 258 & 141 & 2.8 & 0\\\\\n",
       "\t 47 & 110 & 275 & 118 & 1.0 & 0\\\\\n",
       "\t 50 & 110 & 254 & 159 & 0.0 & 1\\\\\n",
       "\t 54 & 120 & 188 & 113 & 1.4 & 0\\\\\n",
       "\\end{tabular}\n"
      ],
      "text/markdown": [
       "\n",
       "A tibble: 1025 × 6\n",
       "\n",
       "| age &lt;dbl&gt; | trestbps &lt;dbl&gt; | chol &lt;dbl&gt; | thalach &lt;dbl&gt; | oldpeak &lt;dbl&gt; | target &lt;fct&gt; |\n",
       "|---|---|---|---|---|---|\n",
       "| 52 | 125 | 212 | 168 | 1.0 | 0 |\n",
       "| 53 | 140 | 203 | 155 | 3.1 | 0 |\n",
       "| 70 | 145 | 174 | 125 | 2.6 | 0 |\n",
       "| 61 | 148 | 203 | 161 | 0.0 | 0 |\n",
       "| 62 | 138 | 294 | 106 | 1.9 | 0 |\n",
       "| ⋮ | ⋮ | ⋮ | ⋮ | ⋮ | ⋮ |\n",
       "| 59 | 140 | 221 | 164 | 0.0 | 1 |\n",
       "| 60 | 125 | 258 | 141 | 2.8 | 0 |\n",
       "| 47 | 110 | 275 | 118 | 1.0 | 0 |\n",
       "| 50 | 110 | 254 | 159 | 0.0 | 1 |\n",
       "| 54 | 120 | 188 | 113 | 1.4 | 0 |\n",
       "\n"
      ],
      "text/plain": [
       "     age trestbps chol thalach oldpeak target\n",
       "1    52  125      212  168     1.0     0     \n",
       "2    53  140      203  155     3.1     0     \n",
       "3    70  145      174  125     2.6     0     \n",
       "4    61  148      203  161     0.0     0     \n",
       "5    62  138      294  106     1.9     0     \n",
       "⋮    ⋮   ⋮        ⋮    ⋮       ⋮       ⋮     \n",
       "1021 59  140      221  164     0.0     1     \n",
       "1022 60  125      258  141     2.8     0     \n",
       "1023 47  110      275  118     1.0     0     \n",
       "1024 50  110      254  159     0.0     1     \n",
       "1025 54  120      188  113     1.4     0     "
      ]
     },
     "metadata": {},
     "output_type": "display_data"
    }
   ],
   "source": [
    "#read data\n",
    "heart <- read_csv(\"https://raw.githubusercontent.com/bowencu/dsci100groupproject/main/heart.csv\")\n",
    "\n",
    "#clean and wrangle data\n",
    "heart <- heart |>\n",
    "    mutate(target = as_factor(target)) |>\n",
    "    select(-sex, -cp, -fbs, -restecg, -exang, -slope, -ca, -thal) |>\n",
    "    na.omit()\n",
    "heart\n"
   ]
  },
  {
   "cell_type": "markdown",
   "id": "94688a32",
   "metadata": {},
   "source": [
    "- set the seed here to have reproducible results since splitting the data with random samples is a randomized process\n",
    "- split the original dataframe into two sets, 75% for training and 25% for testing\n",
    "- we split the data to construct a model from the training set, then test model on a dataset that hasn't been seen before to obtain a reasonable prediction accuracy of the model"
   ]
  },
  {
   "cell_type": "code",
   "execution_count": 3,
   "id": "4c242b84",
   "metadata": {},
   "outputs": [],
   "source": [
    "set.seed(1)\n",
    "heart_split <- initial_split(heart, prop = 0.75, strata = target)\n",
    "heart_train <- training(heart_split)\n",
    "heart_test <- testing(heart_split)"
   ]
  },
  {
   "cell_type": "code",
   "execution_count": 4,
   "id": "25b8f940",
   "metadata": {},
   "outputs": [
    {
     "data": {
      "text/html": [
       "<table class=\"dataframe\">\n",
       "<caption>A tibble: 2 × 2</caption>\n",
       "<thead>\n",
       "\t<tr><th scope=col>target</th><th scope=col>n</th></tr>\n",
       "\t<tr><th scope=col>&lt;fct&gt;</th><th scope=col>&lt;int&gt;</th></tr>\n",
       "</thead>\n",
       "<tbody>\n",
       "\t<tr><td>0</td><td>374</td></tr>\n",
       "\t<tr><td>1</td><td>394</td></tr>\n",
       "</tbody>\n",
       "</table>\n"
      ],
      "text/latex": [
       "A tibble: 2 × 2\n",
       "\\begin{tabular}{ll}\n",
       " target & n\\\\\n",
       " <fct> & <int>\\\\\n",
       "\\hline\n",
       "\t 0 & 374\\\\\n",
       "\t 1 & 394\\\\\n",
       "\\end{tabular}\n"
      ],
      "text/markdown": [
       "\n",
       "A tibble: 2 × 2\n",
       "\n",
       "| target &lt;fct&gt; | n &lt;int&gt; |\n",
       "|---|---|\n",
       "| 0 | 374 |\n",
       "| 1 | 394 |\n",
       "\n"
      ],
      "text/plain": [
       "  target n  \n",
       "1 0      374\n",
       "2 1      394"
      ]
     },
     "metadata": {},
     "output_type": "display_data"
    },
    {
     "name": "stdout",
     "output_type": "stream",
     "text": [
      "[1] \"Table 1.1: Summary of counts of heart disease cases\"\n"
     ]
    }
   ],
   "source": [
    "#data summarized in table, number of observations in each class of target\n",
    "#0 meaning no heart disease, 1 meaning heart disease\n",
    "summarize_heart <- heart_train |>\n",
    "    group_by(target) |>\n",
    "    summarize(n = n())\n",
    "summarize_heart\n",
    "print(\"Table 1.1: Summary of counts of heart disease cases\")"
   ]
  },
  {
   "cell_type": "markdown",
   "id": "80ec6b8c",
   "metadata": {},
   "source": [
    "Table 1.1 summarizes the number of observations for each \"target\" classification. The \"target\" column is the classifier we are trying to predict where 0's represent no heart disease and 1's represent presence of heart disease. There appears to be roughly the same number of heart disease and no heart disease cases. This makes our analysis easier as the weighting of each classification is roughly balanced.\n",
    "\n",
    "- 768 total observations\n",
    "- 374 subjects without heart disease (~49% of total cases)\n",
    "- 394 subjects with heart disease (~51% of total cases)"
   ]
  },
  {
   "cell_type": "code",
   "execution_count": 5,
   "id": "cc3542a1",
   "metadata": {},
   "outputs": [
    {
     "name": "stderr",
     "output_type": "stream",
     "text": [
      "Warning message in mean.default(.x[[i]], ...):\n",
      "“argument is not numeric or logical: returning NA”\n"
     ]
    },
    {
     "data": {
      "text/html": [
       "<table class=\"dataframe\">\n",
       "<caption>A tibble: 1 × 6</caption>\n",
       "<thead>\n",
       "\t<tr><th scope=col>age</th><th scope=col>trestbps</th><th scope=col>chol</th><th scope=col>thalach</th><th scope=col>oldpeak</th><th scope=col>target</th></tr>\n",
       "\t<tr><th scope=col>&lt;dbl&gt;</th><th scope=col>&lt;dbl&gt;</th><th scope=col>&lt;dbl&gt;</th><th scope=col>&lt;dbl&gt;</th><th scope=col>&lt;dbl&gt;</th><th scope=col>&lt;chr&gt;</th></tr>\n",
       "</thead>\n",
       "<tbody>\n",
       "\t<tr><td>54.54688</td><td>131.1172</td><td>245.8099</td><td>149.2878</td><td>1.094141</td><td>all cases</td></tr>\n",
       "</tbody>\n",
       "</table>\n"
      ],
      "text/latex": [
       "A tibble: 1 × 6\n",
       "\\begin{tabular}{llllll}\n",
       " age & trestbps & chol & thalach & oldpeak & target\\\\\n",
       " <dbl> & <dbl> & <dbl> & <dbl> & <dbl> & <chr>\\\\\n",
       "\\hline\n",
       "\t 54.54688 & 131.1172 & 245.8099 & 149.2878 & 1.094141 & all cases\\\\\n",
       "\\end{tabular}\n"
      ],
      "text/markdown": [
       "\n",
       "A tibble: 1 × 6\n",
       "\n",
       "| age &lt;dbl&gt; | trestbps &lt;dbl&gt; | chol &lt;dbl&gt; | thalach &lt;dbl&gt; | oldpeak &lt;dbl&gt; | target &lt;chr&gt; |\n",
       "|---|---|---|---|---|---|\n",
       "| 54.54688 | 131.1172 | 245.8099 | 149.2878 | 1.094141 | all cases |\n",
       "\n"
      ],
      "text/plain": [
       "  age      trestbps chol     thalach  oldpeak  target   \n",
       "1 54.54688 131.1172 245.8099 149.2878 1.094141 all cases"
      ]
     },
     "metadata": {},
     "output_type": "display_data"
    },
    {
     "name": "stdout",
     "output_type": "stream",
     "text": [
      "[1] \"Table 1.2: Summary of the mean of each predictor\"\n"
     ]
    },
    {
     "name": "stderr",
     "output_type": "stream",
     "text": [
      "Warning message in mean.default(.x[[i]], ...):\n",
      "“argument is not numeric or logical: returning NA”\n"
     ]
    },
    {
     "data": {
      "text/html": [
       "<table class=\"dataframe\">\n",
       "<caption>A tibble: 1 × 6</caption>\n",
       "<thead>\n",
       "\t<tr><th scope=col>age</th><th scope=col>trestbps</th><th scope=col>chol</th><th scope=col>thalach</th><th scope=col>oldpeak</th><th scope=col>target</th></tr>\n",
       "\t<tr><th scope=col>&lt;dbl&gt;</th><th scope=col>&lt;dbl&gt;</th><th scope=col>&lt;dbl&gt;</th><th scope=col>&lt;dbl&gt;</th><th scope=col>&lt;dbl&gt;</th><th scope=col>&lt;chr&gt;</th></tr>\n",
       "</thead>\n",
       "<tbody>\n",
       "\t<tr><td>56.79144</td><td>134.1818</td><td>250.7674</td><td>139.7059</td><td>1.643316</td><td>no heart disease</td></tr>\n",
       "</tbody>\n",
       "</table>\n"
      ],
      "text/latex": [
       "A tibble: 1 × 6\n",
       "\\begin{tabular}{llllll}\n",
       " age & trestbps & chol & thalach & oldpeak & target\\\\\n",
       " <dbl> & <dbl> & <dbl> & <dbl> & <dbl> & <chr>\\\\\n",
       "\\hline\n",
       "\t 56.79144 & 134.1818 & 250.7674 & 139.7059 & 1.643316 & no heart disease\\\\\n",
       "\\end{tabular}\n"
      ],
      "text/markdown": [
       "\n",
       "A tibble: 1 × 6\n",
       "\n",
       "| age &lt;dbl&gt; | trestbps &lt;dbl&gt; | chol &lt;dbl&gt; | thalach &lt;dbl&gt; | oldpeak &lt;dbl&gt; | target &lt;chr&gt; |\n",
       "|---|---|---|---|---|---|\n",
       "| 56.79144 | 134.1818 | 250.7674 | 139.7059 | 1.643316 | no heart disease |\n",
       "\n"
      ],
      "text/plain": [
       "  age      trestbps chol     thalach  oldpeak  target          \n",
       "1 56.79144 134.1818 250.7674 139.7059 1.643316 no heart disease"
      ]
     },
     "metadata": {},
     "output_type": "display_data"
    },
    {
     "name": "stdout",
     "output_type": "stream",
     "text": [
      "[1] \"Table 1.3: Means of each predictor in no heart disease cases\"\n"
     ]
    },
    {
     "name": "stderr",
     "output_type": "stream",
     "text": [
      "Warning message in mean.default(.x[[i]], ...):\n",
      "“argument is not numeric or logical: returning NA”\n"
     ]
    },
    {
     "data": {
      "text/html": [
       "<table class=\"dataframe\">\n",
       "<caption>A tibble: 1 × 6</caption>\n",
       "<thead>\n",
       "\t<tr><th scope=col>age</th><th scope=col>trestbps</th><th scope=col>chol</th><th scope=col>thalach</th><th scope=col>oldpeak</th><th scope=col>target</th></tr>\n",
       "\t<tr><th scope=col>&lt;dbl&gt;</th><th scope=col>&lt;dbl&gt;</th><th scope=col>&lt;dbl&gt;</th><th scope=col>&lt;dbl&gt;</th><th scope=col>&lt;dbl&gt;</th><th scope=col>&lt;chr&gt;</th></tr>\n",
       "</thead>\n",
       "<tbody>\n",
       "\t<tr><td>52.41624</td><td>128.2081</td><td>241.1041</td><td>158.3832</td><td>0.5728426</td><td>heart disease</td></tr>\n",
       "</tbody>\n",
       "</table>\n"
      ],
      "text/latex": [
       "A tibble: 1 × 6\n",
       "\\begin{tabular}{llllll}\n",
       " age & trestbps & chol & thalach & oldpeak & target\\\\\n",
       " <dbl> & <dbl> & <dbl> & <dbl> & <dbl> & <chr>\\\\\n",
       "\\hline\n",
       "\t 52.41624 & 128.2081 & 241.1041 & 158.3832 & 0.5728426 & heart disease\\\\\n",
       "\\end{tabular}\n"
      ],
      "text/markdown": [
       "\n",
       "A tibble: 1 × 6\n",
       "\n",
       "| age &lt;dbl&gt; | trestbps &lt;dbl&gt; | chol &lt;dbl&gt; | thalach &lt;dbl&gt; | oldpeak &lt;dbl&gt; | target &lt;chr&gt; |\n",
       "|---|---|---|---|---|---|\n",
       "| 52.41624 | 128.2081 | 241.1041 | 158.3832 | 0.5728426 | heart disease |\n",
       "\n"
      ],
      "text/plain": [
       "  age      trestbps chol     thalach  oldpeak   target       \n",
       "1 52.41624 128.2081 241.1041 158.3832 0.5728426 heart disease"
      ]
     },
     "metadata": {},
     "output_type": "display_data"
    },
    {
     "name": "stdout",
     "output_type": "stream",
     "text": [
      "[1] \"Table 1.4: Means of each predictor in heart disease cases\"\n"
     ]
    }
   ],
   "source": [
    "predictor_means <- heart_train |>\n",
    "    map_df(mean, na.rm = TRUE) |>\n",
    "    mutate(target = c(\"all cases\"))\n",
    "predictor_means\n",
    "print(\"Table 1.2: Summary of the mean of each predictor\")\n",
    "\n",
    "no_disease_predictor_means <- heart_train |>\n",
    "    filter(target == 0) |>\n",
    "    map_df(mean, na.rm = TRUE) |>\n",
    "    mutate(target = c(\"no heart disease\"))\n",
    "no_disease_predictor_means\n",
    "print(\"Table 1.3: Means of each predictor in no heart disease cases\")\n",
    "\n",
    "disease_predictor_means <- heart_train |>\n",
    "    filter(target == 1) |>\n",
    "    map_df(mean, na.rm = TRUE) |>\n",
    "    mutate(target = c(\"heart disease\"))\n",
    "disease_predictor_means\n",
    "print(\"Table 1.4: Means of each predictor in heart disease cases\")\n",
    "   "
   ]
  },
  {
   "cell_type": "markdown",
   "id": "fb8a56d4",
   "metadata": {},
   "source": [
    "In tables 1.2, 1.3, and 1.4, we found the means for each predictor for all cases, no heart disease cases, and heart disease cases. Comparing the means for each predictor in table 1.3 and table 1.4, the means do not differ significantly between the average heart disease and no heart disease case. It would be difficult selecting predictors to use for classification from these predictors as there are no strong distinguishing traits between the classifications."
   ]
  },
  {
   "cell_type": "markdown",
   "id": "486511eb",
   "metadata": {
    "tags": []
   },
   "source": [
    "### Methods"
   ]
  },
  {
   "cell_type": "markdown",
   "id": "1fbf7cff",
   "metadata": {},
   "source": [
    "- Split the data into testing and training sets: 75% training and 25% testing\n",
    "- Create a recipe, using columns “thalach” and “age” as predictors. Scale and centre predictors\n",
    "- Create a validation set to determine the number of k-nearest-neighbors that yield the most accurate predictions. Perform a 5-fold cross validation on the training data\n",
    "- Create k-nearest-neighbor model specification. Set ‘weight_func’ argument to rectangular to obtain the straight-line distance. Set ‘neighbors’ argument to tune(). Set engine to ‘kknn’ and set mode to ‘classification’ as we are predicting categorical variables\n",
    "- Create a workflow combining the training data recipe and model. Use tune_grid() function and set the ‘grid’ argument equal to 10 K values. Use collect_metrics() to aggregate the mean and standard error\n",
    "- Filter for accuracies from .metric column\n",
    "- Create a visualisation to determine the best K value. Plot neighbors against accuracy estimate (mean).\n",
    "- Build a model using the K value that provides the highest accuracy. Pass model and recipe through the fit() function.\n",
    "- Use this final model to predict on the test dataset. Use predict() function and bind columns to the test dataset. \n",
    "- Report the accuracy of the prediction; collect metrics and filter .metric column for accuracy.\n",
    "- Report the confusion matrix\n",
    "- Create a new observation in a tibble. Pass knn model and new observation through predict() function to determine if the ‘new patient’ has heart disease"
   ]
  },
  {
   "cell_type": "markdown",
   "id": "c10a3a41",
   "metadata": {},
   "source": [
    "### Predictor Variable Selection - Kiki"
   ]
  },
  {
   "cell_type": "markdown",
   "id": "83fbd7e4",
   "metadata": {},
   "source": [
    "- It is important to determine which predictors are irrelevant as these could otherwise negatively affect our classifier's performance; they tend to add a random amount of distance between each pair of observations, making the classifier less accurate."
   ]
  },
  {
   "cell_type": "markdown",
   "id": "44413724",
   "metadata": {},
   "source": [
    "- We will use the forward selection method to determine which predictors have a meaningful relationship to the target. This will include the following steps:"
   ]
  },
  {
   "cell_type": "markdown",
   "id": "a29c893e",
   "metadata": {},
   "source": [
    "1. Start with a model having no predictiors.\n",
    "2. Run the following 3 steps until you run out of predictors:\n",
    "    1. For each unused predictor, add it to the    model to form a candidate model.\n",
    "    2. Tune all of the candidate models.\n",
    "    3. Update the model to be the candidate model with the highest cross-validation accuracy.\n",
    "3. Select the model that provides the best trade-off between accuracy and simplicity."
   ]
  },
  {
   "cell_type": "code",
   "execution_count": null,
   "id": "6474dfc1",
   "metadata": {},
   "outputs": [],
   "source": [
    "set.seed(1)\n",
    "\n",
    "heart_subset <- heart_train |>\n",
    "select(age, trestbps, chol, thalach, oldpeak, target)\n",
    "names <- colnames(heart_subset |> select(-target))\n",
    "# Create an empty tibble to store the results\n",
    "accuracies <- tibble(size = integer(),\n",
    "                     model_string = character(),\n",
    "                     accuracy = numeric())\n",
    "\n",
    "#create a model specification\n",
    "knn_spec <- nearest_neighbor(weight_func = \"rectangular\",\n",
    "                             neighbors = tune()) |>\n",
    "set_engine(\"kknn\") |>\n",
    "set_mode(\"classification\")\n",
    "\n",
    "#create a 5-fold cross-validation object\n",
    "heart_vfold <- vfold_cv(heart_subset, v = 5, strata = target)\n",
    "\n",
    "#store the total number of predictors\n",
    "n_total <- length(names)\n",
    "\n",
    "#stores selected predictors\n",
    "selected <- c()\n",
    "\n",
    "#for every size from 1 to the total number of predictors\n",
    "for (i in 1:n_total) {\n",
    "    #for every predictor still not added yet\n",
    "    accs <- list()\n",
    "    models <- list()\n",
    "    for (j in 1:length(names)) {\n",
    "        #create a model string for this combination of predictors\n",
    "        preds_new <- c(selected, names[[j]])\n",
    "        model_string <- paste(\"target\", \"~\", paste(preds_new, collapse=\"+\"))\n",
    "        \n",
    "        #create a recipe from the model string\n",
    "        heart_recipe <- recipe(as.formula(model_string),\n",
    "                               data = heart_subset) |>\n",
    "        step_scale(all_predictors()) |>\n",
    "        step_center(all_predictors())\n",
    "        \n",
    "        # tune the KNN classifier with these predictors, and collect the accuracy for the best K\n",
    "        acc <- workflow() |>\n",
    "        add_recipe(heart_recipe) |>\n",
    "        add_model(knn_spec) |>\n",
    "        tune_grid(resamples = heart_vfold, grid = 10) |>\n",
    "        collect_metrics() |>\n",
    "        filter(.metric == \"accuracy\") |>\n",
    "        summarize(mx = max(mean))\n",
    "        acc <- acc$mx |> unlist()\n",
    "        \n",
    "        #add this result to the dataframe\n",
    "        accs[[j]] <- acc\n",
    "        models[[j]] <- model_string\n",
    "        }\n",
    "    jstar <- which.max(unlist(accs))\n",
    "    accuracies <- accuracies |>\n",
    "    add_row(size = i,\n",
    "            model_string = models[[jstar]],\n",
    "            accuracy = accs[[jstar]])\n",
    "    selected <- c(selected, names[[jstar]])\n",
    "    names <- names[-jstar]\n",
    "    }\n",
    "accuracies"
   ]
  },
  {
   "cell_type": "markdown",
   "id": "5db597e6",
   "metadata": {
    "tags": []
   },
   "source": [
    "### Visualizing the best predictors in the Training Data - Kiki"
   ]
  },
  {
   "cell_type": "markdown",
   "id": "da51def7",
   "metadata": {},
   "source": [
    "### Tuning the K-NN classifier"
   ]
  },
  {
   "cell_type": "code",
   "execution_count": null,
   "id": "79a1cec6",
   "metadata": {},
   "outputs": [],
   "source": [
    "#set seed\n",
    "set.seed(1)\n",
    "\n",
    "#update predcitors after Kiki's part\n",
    "#create recipe\n",
    "recipe_heart <- recipe(target ~ age + thalach, data = heart_train) |>\n",
    "        step_scale(all_predictors()) |>\n",
    "        step_center(all_predictors())\n",
    "\n",
    "#parameter K value selection\n",
    "#split training/validation sets\n",
    "heart_vfold <- vfold_cv(heart_train, v = 5, strata = target)\n",
    "\n",
    "#train classifier part 1 - create model specifications\n",
    "knn_spec <- nearest_neighbor(weight_func = \"rectangular\", neighbors = tune()) |>\n",
    "       set_engine(\"kknn\") |>\n",
    "       set_mode(\"classification\")\n",
    "\n",
    "#create tibble with neighbors variable\n",
    "k_vals <- tibble(neighbors = seq(from = 1, to = 100, by = 5))\n",
    "\n",
    "#train classifier part 2 - create workflow\n",
    "knn_results <- workflow() |>\n",
    "        add_recipe(recipe_heart) |>\n",
    "        add_model(knn_spec) |>\n",
    "        tune_grid(resamples = heart_vfold, grid = k_vals) |>\n",
    "        collect_metrics()\n",
    "\n",
    "#find accuracy of the range of K values\n",
    "accuracies <- knn_results |>\n",
    "        filter(.metric == \"accuracy\")\n",
    "\n",
    "#plot graph of accuracy against K value to find best K value\n",
    "accuracy_vs_k <- ggplot(accuracies, aes(x = neighbors, y = mean)) +\n",
    "        geom_point() +\n",
    "        geom_line() +\n",
    "        geom_vline(xintercept = 1, colour = \"red\") +\n",
    "        labs(x = \"No. of Neighbors\", \n",
    "             y = \"Accuracy Estimate\", \n",
    "             title = \"Figure 1.1: Estimated Accuracies for range of K values\") + \n",
    "        theme(text = element_text(size = 12))\n",
    "\n",
    "accuracy_vs_k"
   ]
  },
  {
   "cell_type": "markdown",
   "id": "8a088724",
   "metadata": {
    "tags": []
   },
   "source": [
    "We will now be tuning the classification model to find the best K value with the chosen predictors: X and Y\n",
    "\n",
    "The following steps will be conducted:\n",
    "1. Create a recipe, using columns “X” and “Y” as predictors. Scale and centre predictors.\n",
    "2. Create a validation set to determine the number of k-nearest-neighbors that yield the most accurate predictions. Perform a 5-fold cross validation on the training data.\n",
    "3. Create k-nearest-neighbor model specification. Set ‘weight_func’ argument to rectangular to obtain the straight-line distance. Set ‘neighbors’ argument to tune(). Set engine to ‘kknn’ and set mode to ‘classification’ as we are predicting categorical variables.\n",
    "4. Create a workflow combining the training data recipe and model. Use tune_grid() function and set the ‘grid’ argument equal to 10 K values. Use collect_metrics() to aggregate the mean and standard error.\n",
    "5. Filter for accuracies from .metric column.\n",
    "6. Create a visualisation to determine the best K value. Plot neighbors against accuracy estimate (mean) to visualize the most stable k nearest neighbour.\n",
    "\n",
    "As seen in Figure 1.1, k = 1 is the most suitable value for the number of neighbours since it has an estimated accuracy significantly higher than the other k values and does not have a big rise or drop in accuracy compared to the values one above or one below it."
   ]
  },
  {
   "cell_type": "markdown",
   "id": "8aee2d42",
   "metadata": {},
   "source": [
    "### K-NN classification"
   ]
  },
  {
   "cell_type": "code",
   "execution_count": null,
   "id": "716b4333",
   "metadata": {},
   "outputs": [],
   "source": [
    "#create model specifications with best K value\n",
    "knn_spec_2 <- nearest_neighbor(weight_func = \"rectangular\", neighbors = 1) |>\n",
    "        set_engine(\"kknn\") |>\n",
    "        set_mode(\"classification\")\n",
    "\n",
    "#create workflow\n",
    "knn_fit <- workflow() |>\n",
    "        add_recipe(recipe_heart) |>\n",
    "        add_model(knn_spec_2) |>\n",
    "        fit(data = heart_train)\n",
    "\n",
    "#predict labels in testing dataset\n",
    "heart_test_predictions <- predict(knn_fit, heart_test) |>\n",
    "        bind_cols(heart_test) \n",
    "\n",
    "#compute classification accuracy\n",
    "print(\"Figure 1.2: Accuracy of Predictions with K-NN Classification Model\")\n",
    "heart_test_predictions_2 <- heart_test_predictions |>\n",
    "        metrics(truth = target, estimate = .pred_class) |>\n",
    "        filter(.metric == \"accuracy\") |>\n",
    "        select(.metric, .estimate) \n",
    "heart_test_predictions_2\n",
    "\n",
    "#create confusion matrix\n",
    "print(\"Figure 1.3: Confusion Matrix of Prediction Results of K-NN Classification Model\")\n",
    "confusion <- heart_test_predictions |>\n",
    "        conf_mat(truth = target, estimate = .pred_class)\n",
    "confusion\n",
    "\n",
    "#create visualization from prediction outcome of model\n",
    "plot <- heart_test_predictions |>\n",
    "        ggplot(aes(x = .pred_class, fill = target)) +\n",
    "        geom_bar(position = \"fill\") +\n",
    "        labs(x = \"Predicted Class\", y = \"Percentage of Observations in %\",\n",
    "            fill = \"Actual Class\") +\n",
    "        ggtitle(\"Figure 1.4: Accuracy of Predictions of K-NN Classification Model\") +\n",
    "        scale_fill_discrete(labels = c(\"Has No Heart Disease\", \"Has Heart Disease\")) +\n",
    "        scale_y_continuous(labels = scales::label_percent(), \n",
    "                           breaks = scales::pretty_breaks(n = 10),\n",
    "                           ) +\n",
    "        scale_x_discrete(labels=c(\"0\" = \"Has No Heart Disease\", \"1\" = \"Has Heart Disease\")) +\n",
    "        theme(text = element_text(size = 16))\n",
    "plot"
   ]
  },
  {
   "cell_type": "markdown",
   "id": "93ac6f50",
   "metadata": {},
   "source": [
    "* After we carried out K-NN classification on the testing data set, it was found that the accuracy of the trained model was at a high level of **97%**, as seen in Figure 1.2.\n",
    "* We visualized the results via a confusion matrix as seen in Figure 1.3. From the matrix, it was observed that there was a total of 251 accurate predictions out of a total of 257 predictions. There were 6 cases where the actual class was \"Has No Heart Disease\" but the model predicted them as \"Has Heart Disease\".\n",
    "* From Figure 1.4, we can hence see that 95% of predicted classes for \"Has No Heart Disease\" is accurate, while 100% of predicted classes for \"Has Heart Disease\" is accurate.."
   ]
  },
  {
   "cell_type": "markdown",
   "id": "f3156ee1",
   "metadata": {},
   "source": [
    "## Expected outcomes and significance"
   ]
  },
  {
   "cell_type": "markdown",
   "id": "3180f1a9",
   "metadata": {},
   "source": [
    "Heart disease patients need an immediate diagnosis.Doctors identify it based on results of clinical testing and prior experience treating patients presented with comparable symptoms. Our model will attempt to simulate a similar role, where age and maximum BPM are used to predict whether someone has heart disease. Furthermore, we expect to use a testing set to confirm the accuracy of our model. However, our current graph observes that there is a mix of points around the top middle area of the graph. We predict our classifier to have a lower accuracy for certain ranges of the data, which will cause serious health risks when misdiagnosing patients.\n",
    "  \n",
    "Limitations: Despite our data set having a handful of predictors that are numerical, we only use 2 that we believe are the biggest predictors. The investigation can be potentially extended by testing multiple predictors to find which one has the biggest impact. This would justify the selection of our 2 predictors from a statistical perspective. Furthermore, there is the potential to use 3 predictors at the same time to make a 3D model. However this would be hard to implement with our group’s current skills."
   ]
  },
  {
   "cell_type": "markdown",
   "id": "6fe853f8",
   "metadata": {},
   "source": [
    "## References\n",
    "\n",
    "https://www.kaggle.com/datasets/johnsmith88/heart-disease-dataset"
   ]
  }
 ],
 "metadata": {
  "kernelspec": {
   "display_name": "R",
   "language": "R",
   "name": "ir"
  },
  "language_info": {
   "codemirror_mode": "r",
   "file_extension": ".r",
   "mimetype": "text/x-r-source",
   "name": "R",
   "pygments_lexer": "r",
   "version": "4.1.3"
  }
 },
 "nbformat": 4,
 "nbformat_minor": 5
}
