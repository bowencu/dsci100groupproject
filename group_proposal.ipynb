{
 "cells": [
  {
   "cell_type": "markdown",
   "id": "c5a55990-a7d4-476a-b52a-b3cd4ce070eb",
   "metadata": {},
   "source": [
    "### Group 92 Project Proposal\n",
    "- Members: Alan, Bowen, Jia Yi, Kiki"
   ]
  },
  {
   "cell_type": "markdown",
   "id": "f223b49e-fcc3-4be7-80d8-2ee26053e1e6",
   "metadata": {},
   "source": [
    "### Which team will win the 22nd FIFA World Cup?"
   ]
  },
  {
   "cell_type": "markdown",
   "id": "5b47f886-f323-473d-ae88-ab634f48b1ec",
   "metadata": {},
   "source": [
    "### Introduction"
   ]
  },
  {
   "cell_type": "markdown",
   "id": "14b8cb90-fc8a-4721-9c3c-d2e211936c48",
   "metadata": {},
   "source": [
    "The FIFA World Cup is an international football competition held by the Fédération Internationale de Football Association (FIFA) once every four years. Contesting teams are made up of the senior men's national teams of countries that are FIFA members. This is the most prestigious and most widely viewed association football tournament in the world. \n",
    "\n",
    "The current competition structure starts with qualifying tournaments that are held within the 6 FIFA continental zones (Africa, Asia, North and Central America and Caribbean, South America, Oceania, and Europe) to pick the top 32 national teams. This is followed by a final tournament which includes a group stage and knockout stage. In the former, 32 teams compete within 8 groups of 4 in a round-robin format and the top 2 teams of each group advance to the knockout stage. In the latter, one-off matches are played through the quarter-finals, semi-finals, third-place match and the finals.  \n",
    "\n",
    "The next FIFA World Cup is scheduled to take place in Qatar from 20 November to 18 December 2022. This 22nd running of the FIFA World Cup has gained immense attention, a level that is higher than any other of its predecessors. Predictions of the next championship holder has also since been a hot topic as the 32 teams are confirmed and the final tournament inches closer. \n",
    "\n",
    "Hence, our team wishes to utilise the data from all World Cups, World Cup matches and World Cup players to predict the next champion of the FIFA World Cup. The number of goals scored, number of qualified teams, number of matches played for each World Cup, the players and coaches for each Word Cup, as well as the results of all matches will be used to  eventually complete a prediction based on the 32 teams picked for the 22nd FIFA World Cup."
   ]
  },
  {
   "cell_type": "markdown",
   "id": "0590c934-8e22-42f7-a31c-2efbff6f4279",
   "metadata": {},
   "source": [
    "### Preliminary exploratory data analysis"
   ]
  },
  {
   "cell_type": "markdown",
   "id": "4aa980f0-2864-44f8-bfc4-c0472bcfa238",
   "metadata": {},
   "source": [
    "### Methods"
   ]
  },
  {
   "cell_type": "markdown",
   "id": "c219f870-7e66-4084-969e-6af5755da64c",
   "metadata": {},
   "source": [
    "### Expected outcomes and significance"
   ]
  },
  {
   "cell_type": "markdown",
   "id": "beb3611e-c146-460c-b97f-a5dd4a8e3539",
   "metadata": {},
   "source": [
    "The predicted outcome of this research will hopefully give us a number of candidates, or the top ? teams that will be able to make it to the final playoffs. Because of this, the initial grouping of the teams is a significant factor. By just narrowing the teams down, others will be able to focus on a deeper analysis of the individual teams. Including the results of recent non world cup matches or key player influence in parameters could be something interessant to do and will improve the constrained outcome of our investigation.\n",
    "\n",
    "Limitations: FIFA ranking ends in 2014, thus the most recent dataset is lacking. This investigation will therefore reflect results that don’t reflect the 2018 tournament."
   ]
  }
 ],
 "metadata": {
  "kernelspec": {
   "display_name": "R",
   "language": "R",
   "name": "ir"
  },
  "language_info": {
   "codemirror_mode": "r",
   "file_extension": ".r",
   "mimetype": "text/x-r-source",
   "name": "R",
   "pygments_lexer": "r",
   "version": "4.1.3"
  }
 },
 "nbformat": 4,
 "nbformat_minor": 5
}
