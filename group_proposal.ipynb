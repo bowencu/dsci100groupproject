{
 "cells": [
  {
   "cell_type": "markdown",
   "id": "181ca26a",
   "metadata": {
    "tags": []
   },
   "source": [
    "<<<<<<< REMOTE CELL DELETED >>>>>>>\n",
    "### Method"
   ]
  },
  {
   "cell_type": "markdown",
   "id": "ad09b89c",
   "metadata": {},
   "source": [
    "#### Overview "
   ]
  },
  {
   "cell_type": "markdown",
   "id": "3a7f7cb4",
   "metadata": {},
   "source": [
    "#### Reading and Wrangling"
   ]
  },
  {
   "cell_type": "markdown",
   "id": "2816db16",
   "metadata": {},
   "source": [
    "#### The Data Set has the following columns in the following order:"
   ]
  },
  {
   "cell_type": "markdown",
   "id": "88dec45a",
   "metadata": {},
   "source": [
    "- Age - in years\n",
    "- Sex -  (1= male; 0=female)\n",
    "- Chest Pain Type - (0= typical angina; 1= atypical angina;  2= non-anginal pain; 3= asymptomatic\n",
    "- Resting Blood Pressure - resting blood pressure (in mm mercury on first visit to hospital)\n",
    "- Serum Cholestoral - in mg/dl\n",
    "- Fasting Blood Sugar - (1= greater or equal to than 120 mg/dl; 0= less than 120 mg/dl\n",
    "- Resting Electrocardiographic Results - (0 = normal; 1= having ST-T wave abnormality (T wave inversions and/or ST elevation or depression of > 0.05 mV); 2= showing probable or definite left ventricular hypertrophy by Estes' criteria)\n",
    "- Maximum Heart Rate Achieved - Maximum heart rate achieved in beats per minute\n",
    "- Exercise Induced Angina - (1= yes; 0=no)\n",
    "- Oldpeak - ST depression induced by exercise relative to rest\n",
    "- Slope - (0= upsloping; 1= flat; 2= downsloping)\n",
    "- Number of Major Vessels \n",
    "- Thal -  (3 = normal; 6 = fixed defect; 7 = reversable defect)\n",
    "- Target - (0= undiagnosed; 1= diagnosed)"
   ]
  }
 ],
 "metadata": {},
 "nbformat": 4,
 "nbformat_minor": 5
}
